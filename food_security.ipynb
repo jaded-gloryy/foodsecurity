{
 "cells": [
  {
   "cell_type": "code",
   "execution_count": null,
   "metadata": {},
   "outputs": [],
   "source": [
    "# EDA\n",
    "from matplotlib import pyplot as plt\n",
    "import pandas as pd\n",
    "from config import CONFIG\n",
    "\n",
    "dom_clean_csv = CONFIG[\"DOM_CLEAN\"]\n",
    "int_clean_csv = CONFIG[\"INT_CLEAN\"]\n",
    "\n",
    "dom_df = pd.read_csv(dom_clean_csv)\n",
    "int_df = pd.read_csv(int_clean_csv)\n",
    "\n",
    "dom_df.head(5)"
   ]
  },
  {
   "cell_type": "code",
   "execution_count": null,
   "metadata": {},
   "outputs": [],
   "source": [
    "dom_df.all()"
   ]
  },
  {
   "cell_type": "code",
   "execution_count": null,
   "metadata": {},
   "outputs": [],
   "source": [
    "dom_df = dom_df.drop(columns=[\"Unnamed: 0\"])"
   ]
  },
  {
   "cell_type": "code",
   "execution_count": null,
   "metadata": {},
   "outputs": [],
   "source": [
    "dom_df = dom_df.dropna()"
   ]
  },
  {
   "cell_type": "code",
   "execution_count": null,
   "metadata": {},
   "outputs": [],
   "source": [
    "dom_df"
   ]
  },
  {
   "cell_type": "code",
   "execution_count": null,
   "metadata": {},
   "outputs": [],
   "source": [
    "dom_df.country.unique()"
   ]
  },
  {
   "cell_type": "code",
   "execution_count": null,
   "metadata": {},
   "outputs": [],
   "source": [
    "dom_df.price_type.unique()"
   ]
  },
  {
   "cell_type": "code",
   "execution_count": null,
   "metadata": {},
   "outputs": [],
   "source": [
    "dom_df.market.unique()"
   ]
  },
  {
   "cell_type": "code",
   "execution_count": null,
   "metadata": {},
   "outputs": [],
   "source": [
    "commodity_counts = dom_df.commodity.value_counts()"
   ]
  },
  {
   "cell_type": "code",
   "execution_count": null,
   "metadata": {},
   "outputs": [],
   "source": [
    "commodity_counts.plot.barh(figsize = (10,20), title = \"Commodity counts\")"
   ]
  },
  {
   "cell_type": "code",
   "execution_count": null,
   "metadata": {},
   "outputs": [],
   "source": [
    "#using plotly to make the same graph\n",
    "\n",
    "import plotly.express as px\n",
    "\n",
    "px.bar(commodity_counts)"
   ]
  },
  {
   "cell_type": "code",
   "execution_count": null,
   "metadata": {},
   "outputs": [],
   "source": [
    "commodity_price_means = dom_df.groupby([\"commodity\"])[\"price\"].agg([\"mean\",\"std\"])\n",
    "commodity_price_means"
   ]
  },
  {
   "cell_type": "code",
   "execution_count": null,
   "metadata": {},
   "outputs": [],
   "source": [
    "# plot mean price of each commodity for visual ref\n",
    "\n",
    "# x = mean price, y = commondity\n",
    "commodity_price_df = dom_df.groupby([\"commodity\"])[\"price\"].agg([\"mean\",\"std\"])\n",
    "y = commodity_price_means.index\n",
    "plt.figure(figsize= (10,20))\n",
    "\n",
    "# plt.plot(commodity_price_df[\"std\"],y)\n",
    "plt.plot(commodity_price_df[\"mean\"],y)\n",
    "plt.errorbar(commodity_price_df[\"mean\"], y, xerr = commodity_price_df[\"std\"], ecolor= \"blue\")\n",
    "\n",
    "\n",
    "plt.title(\"Scatter plot of mean and stdev Commodity Price\")\n",
    "plt.ylabel(\"Commodity\")\n",
    "plt.xlabel(\"Mean price\")\n",
    "plt.xlim([-24,200])\n",
    "\n",
    "plt.show()"
   ]
  },
  {
   "cell_type": "code",
   "execution_count": null,
   "metadata": {},
   "outputs": [],
   "source": [
    "maize_mask = dom_df[\"commodity\"] == \"Maize\"\n",
    "dom_df[maize_mask].sort_values(by=\"price\")"
   ]
  },
  {
   "cell_type": "code",
   "execution_count": null,
   "metadata": {},
   "outputs": [],
   "source": [
    "dom_df[dom_df[\"commodity\"]== \"Milk (powder)\"].sort_values(by=\"price\")"
   ]
  },
  {
   "cell_type": "code",
   "execution_count": null,
   "metadata": {},
   "outputs": [],
   "source": [
    "#check stdev\n",
    "\n",
    "commodity_price_means = dom_df.groupby([\"commodity\"])[\"price\"].stdev()\n",
    "\n",
    "plt.figure(figsize= (10,20))\n",
    "plt.scatter(commodity_price_means,commodity_price_means.index)\n",
    "\n",
    "plt.title(\"Scatter plot of standard deviation commodity price\")\n",
    "plt.ylabel(\"Commodity\")\n",
    "plt.xlabel(\"Mean price\")\n",
    "\n",
    "\n",
    "plt.show()"
   ]
  },
  {
   "cell_type": "code",
   "execution_count": null,
   "metadata": {},
   "outputs": [],
   "source": [
    "int_df.head(5)"
   ]
  }
 ],
 "metadata": {
  "kernelspec": {
   "display_name": ".venv",
   "language": "python",
   "name": "python3"
  },
  "language_info": {
   "codemirror_mode": {
    "name": "ipython",
    "version": 3
   },
   "file_extension": ".py",
   "mimetype": "text/x-python",
   "name": "python",
   "nbconvert_exporter": "python",
   "pygments_lexer": "ipython3",
   "version": "3.8.16"
  },
  "orig_nbformat": 4,
  "vscode": {
   "interpreter": {
    "hash": "44ade4d31bf45082d6c423e6e91ae0b0ce2f3d3510306612b241e6762b51aedf"
   }
  }
 },
 "nbformat": 4,
 "nbformat_minor": 2
}
